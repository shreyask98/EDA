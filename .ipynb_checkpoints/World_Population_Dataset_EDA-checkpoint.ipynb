{
 "cells": [
  {
   "cell_type": "code",
   "execution_count": 32,
   "id": "b9eed47c",
   "metadata": {},
   "outputs": [
    {
     "name": "stdout",
     "output_type": "stream",
     "text": [
      "Current date and time:  2023-05-05 22:43:28.057511\n"
     ]
    }
   ],
   "source": [
    "import datetime\n",
    "\n",
    "now = datetime.datetime.now()\n",
    "print(\"Current date and time: \", now)\n"
   ]
  },
  {
   "cell_type": "markdown",
   "id": "b30a8cf2",
   "metadata": {},
   "source": [
    "# Importing Libraries"
   ]
  },
  {
   "cell_type": "code",
   "execution_count": 1,
   "id": "64cf4620",
   "metadata": {},
   "outputs": [],
   "source": [
    "import pandas as pd\n",
    "import numpy as np\n",
    "import matplotlib.pyplot as plt\n",
    "import seaborn as sns"
   ]
  },
  {
   "cell_type": "markdown",
   "id": "aa6cf435",
   "metadata": {},
   "source": [
    "# Read data"
   ]
  },
  {
   "cell_type": "code",
   "execution_count": 2,
   "id": "1717daed",
   "metadata": {},
   "outputs": [],
   "source": [
    "# Read the data from a CSV file\n",
    "data = pd.read_csv(\"C:/Users/shrey/Documents/GitHub/EDA/world_population.csv\")"
   ]
  },
  {
   "cell_type": "code",
   "execution_count": 3,
   "id": "3a9ada28",
   "metadata": {},
   "outputs": [
    {
     "data": {
      "text/html": [
       "<div>\n",
       "<style scoped>\n",
       "    .dataframe tbody tr th:only-of-type {\n",
       "        vertical-align: middle;\n",
       "    }\n",
       "\n",
       "    .dataframe tbody tr th {\n",
       "        vertical-align: top;\n",
       "    }\n",
       "\n",
       "    .dataframe thead th {\n",
       "        text-align: right;\n",
       "    }\n",
       "</style>\n",
       "<table border=\"1\" class=\"dataframe\">\n",
       "  <thead>\n",
       "    <tr style=\"text-align: right;\">\n",
       "      <th></th>\n",
       "      <th>Rank</th>\n",
       "      <th>CCA3</th>\n",
       "      <th>Country/Territory</th>\n",
       "      <th>Capital</th>\n",
       "      <th>Continent</th>\n",
       "      <th>2022 Population</th>\n",
       "      <th>2020 Population</th>\n",
       "      <th>2015 Population</th>\n",
       "      <th>2010 Population</th>\n",
       "      <th>2000 Population</th>\n",
       "      <th>1990 Population</th>\n",
       "      <th>1980 Population</th>\n",
       "      <th>1970 Population</th>\n",
       "      <th>Area (km²)</th>\n",
       "      <th>Density (per km²)</th>\n",
       "      <th>Growth Rate</th>\n",
       "      <th>World Population Percentage</th>\n",
       "    </tr>\n",
       "  </thead>\n",
       "  <tbody>\n",
       "    <tr>\n",
       "      <th>0</th>\n",
       "      <td>36</td>\n",
       "      <td>AFG</td>\n",
       "      <td>Afghanistan</td>\n",
       "      <td>Kabul</td>\n",
       "      <td>Asia</td>\n",
       "      <td>41128771</td>\n",
       "      <td>38972230</td>\n",
       "      <td>33753499</td>\n",
       "      <td>28189672</td>\n",
       "      <td>19542982</td>\n",
       "      <td>10694796</td>\n",
       "      <td>12486631</td>\n",
       "      <td>10752971</td>\n",
       "      <td>652230</td>\n",
       "      <td>63.0587</td>\n",
       "      <td>1.0257</td>\n",
       "      <td>0.52</td>\n",
       "    </tr>\n",
       "    <tr>\n",
       "      <th>1</th>\n",
       "      <td>138</td>\n",
       "      <td>ALB</td>\n",
       "      <td>Albania</td>\n",
       "      <td>Tirana</td>\n",
       "      <td>Europe</td>\n",
       "      <td>2842321</td>\n",
       "      <td>2866849</td>\n",
       "      <td>2882481</td>\n",
       "      <td>2913399</td>\n",
       "      <td>3182021</td>\n",
       "      <td>3295066</td>\n",
       "      <td>2941651</td>\n",
       "      <td>2324731</td>\n",
       "      <td>28748</td>\n",
       "      <td>98.8702</td>\n",
       "      <td>0.9957</td>\n",
       "      <td>0.04</td>\n",
       "    </tr>\n",
       "    <tr>\n",
       "      <th>2</th>\n",
       "      <td>34</td>\n",
       "      <td>DZA</td>\n",
       "      <td>Algeria</td>\n",
       "      <td>Algiers</td>\n",
       "      <td>Africa</td>\n",
       "      <td>44903225</td>\n",
       "      <td>43451666</td>\n",
       "      <td>39543154</td>\n",
       "      <td>35856344</td>\n",
       "      <td>30774621</td>\n",
       "      <td>25518074</td>\n",
       "      <td>18739378</td>\n",
       "      <td>13795915</td>\n",
       "      <td>2381741</td>\n",
       "      <td>18.8531</td>\n",
       "      <td>1.0164</td>\n",
       "      <td>0.56</td>\n",
       "    </tr>\n",
       "    <tr>\n",
       "      <th>3</th>\n",
       "      <td>213</td>\n",
       "      <td>ASM</td>\n",
       "      <td>American Samoa</td>\n",
       "      <td>Pago Pago</td>\n",
       "      <td>Oceania</td>\n",
       "      <td>44273</td>\n",
       "      <td>46189</td>\n",
       "      <td>51368</td>\n",
       "      <td>54849</td>\n",
       "      <td>58230</td>\n",
       "      <td>47818</td>\n",
       "      <td>32886</td>\n",
       "      <td>27075</td>\n",
       "      <td>199</td>\n",
       "      <td>222.4774</td>\n",
       "      <td>0.9831</td>\n",
       "      <td>0.00</td>\n",
       "    </tr>\n",
       "    <tr>\n",
       "      <th>4</th>\n",
       "      <td>203</td>\n",
       "      <td>AND</td>\n",
       "      <td>Andorra</td>\n",
       "      <td>Andorra la Vella</td>\n",
       "      <td>Europe</td>\n",
       "      <td>79824</td>\n",
       "      <td>77700</td>\n",
       "      <td>71746</td>\n",
       "      <td>71519</td>\n",
       "      <td>66097</td>\n",
       "      <td>53569</td>\n",
       "      <td>35611</td>\n",
       "      <td>19860</td>\n",
       "      <td>468</td>\n",
       "      <td>170.5641</td>\n",
       "      <td>1.0100</td>\n",
       "      <td>0.00</td>\n",
       "    </tr>\n",
       "  </tbody>\n",
       "</table>\n",
       "</div>"
      ],
      "text/plain": [
       "   Rank CCA3 Country/Territory           Capital Continent  2022 Population  \\\n",
       "0    36  AFG       Afghanistan             Kabul      Asia         41128771   \n",
       "1   138  ALB           Albania            Tirana    Europe          2842321   \n",
       "2    34  DZA           Algeria           Algiers    Africa         44903225   \n",
       "3   213  ASM    American Samoa         Pago Pago   Oceania            44273   \n",
       "4   203  AND           Andorra  Andorra la Vella    Europe            79824   \n",
       "\n",
       "   2020 Population  2015 Population  2010 Population  2000 Population  \\\n",
       "0         38972230         33753499         28189672         19542982   \n",
       "1          2866849          2882481          2913399          3182021   \n",
       "2         43451666         39543154         35856344         30774621   \n",
       "3            46189            51368            54849            58230   \n",
       "4            77700            71746            71519            66097   \n",
       "\n",
       "   1990 Population  1980 Population  1970 Population  Area (km²)  \\\n",
       "0         10694796         12486631         10752971      652230   \n",
       "1          3295066          2941651          2324731       28748   \n",
       "2         25518074         18739378         13795915     2381741   \n",
       "3            47818            32886            27075         199   \n",
       "4            53569            35611            19860         468   \n",
       "\n",
       "   Density (per km²)  Growth Rate  World Population Percentage  \n",
       "0            63.0587       1.0257                         0.52  \n",
       "1            98.8702       0.9957                         0.04  \n",
       "2            18.8531       1.0164                         0.56  \n",
       "3           222.4774       0.9831                         0.00  \n",
       "4           170.5641       1.0100                         0.00  "
      ]
     },
     "execution_count": 3,
     "metadata": {},
     "output_type": "execute_result"
    }
   ],
   "source": [
    "# Checking the top 5 rows of data\n",
    "data.head()"
   ]
  },
  {
   "cell_type": "code",
   "execution_count": 4,
   "id": "aebed0e8",
   "metadata": {
    "scrolled": true
   },
   "outputs": [
    {
     "name": "stdout",
     "output_type": "stream",
     "text": [
      "(234, 17)\n",
      "------------------------------------------------------\n",
      "<class 'pandas.core.frame.DataFrame'>\n",
      "RangeIndex: 234 entries, 0 to 233\n",
      "Data columns (total 17 columns):\n",
      " #   Column                       Non-Null Count  Dtype  \n",
      "---  ------                       --------------  -----  \n",
      " 0   Rank                         234 non-null    int64  \n",
      " 1   CCA3                         234 non-null    object \n",
      " 2   Country/Territory            234 non-null    object \n",
      " 3   Capital                      234 non-null    object \n",
      " 4   Continent                    234 non-null    object \n",
      " 5   2022 Population              234 non-null    int64  \n",
      " 6   2020 Population              234 non-null    int64  \n",
      " 7   2015 Population              234 non-null    int64  \n",
      " 8   2010 Population              234 non-null    int64  \n",
      " 9   2000 Population              234 non-null    int64  \n",
      " 10  1990 Population              234 non-null    int64  \n",
      " 11  1980 Population              234 non-null    int64  \n",
      " 12  1970 Population              234 non-null    int64  \n",
      " 13  Area (km²)                   234 non-null    int64  \n",
      " 14  Density (per km²)            234 non-null    float64\n",
      " 15  Growth Rate                  234 non-null    float64\n",
      " 16  World Population Percentage  234 non-null    float64\n",
      "dtypes: float64(3), int64(10), object(4)\n",
      "memory usage: 31.2+ KB\n",
      "None\n",
      "------------------------------------------------------\n",
      "Rank                           234\n",
      "CCA3                           234\n",
      "Country/Territory              234\n",
      "Capital                        234\n",
      "Continent                        6\n",
      "2022 Population                234\n",
      "2020 Population                234\n",
      "2015 Population                234\n",
      "2010 Population                234\n",
      "2000 Population                234\n",
      "1990 Population                234\n",
      "1980 Population                234\n",
      "1970 Population                234\n",
      "Area (km²)                     233\n",
      "Density (per km²)              234\n",
      "Growth Rate                    180\n",
      "World Population Percentage     70\n",
      "dtype: int64\n"
     ]
    }
   ],
   "source": [
    "print(data.shape)\n",
    "print(\"------------------------------------------------------\")\n",
    "print(data.info())\n",
    "print(\"------------------------------------------------------\")\n",
    "print(data.nunique())"
   ]
  },
  {
   "cell_type": "markdown",
   "id": "1ed623a7",
   "metadata": {},
   "source": [
    "#### The dataset contains information on 234 countries/territories across 6 continents."
   ]
  },
  {
   "cell_type": "markdown",
   "id": "b01a341a",
   "metadata": {},
   "source": [
    "# Exploratory Data Analysis"
   ]
  },
  {
   "cell_type": "markdown",
   "id": "bce4e6bc",
   "metadata": {},
   "source": [
    "Let's begin some exploratory data analysis! Start by checking out missing data!"
   ]
  },
  {
   "cell_type": "code",
   "execution_count": 5,
   "id": "345d94ca",
   "metadata": {},
   "outputs": [
    {
     "name": "stdout",
     "output_type": "stream",
     "text": [
      "Rank                           0\n",
      "CCA3                           0\n",
      "Country/Territory              0\n",
      "Capital                        0\n",
      "Continent                      0\n",
      "2022 Population                0\n",
      "2020 Population                0\n",
      "2015 Population                0\n",
      "2010 Population                0\n",
      "2000 Population                0\n",
      "1990 Population                0\n",
      "1980 Population                0\n",
      "1970 Population                0\n",
      "Area (km²)                     0\n",
      "Density (per km²)              0\n",
      "Growth Rate                    0\n",
      "World Population Percentage    0\n",
      "dtype: int64\n"
     ]
    }
   ],
   "source": [
    "# Checking for missing data\n",
    "def check_missing_data():\n",
    "    print(data.isnull().sum())\n",
    "    \n",
    "check_missing_data()"
   ]
  },
  {
   "cell_type": "markdown",
   "id": "518aefe1",
   "metadata": {},
   "source": [
    "No Null Values! So, filling is not required"
   ]
  },
  {
   "cell_type": "markdown",
   "id": "31fa6bdb",
   "metadata": {},
   "source": [
    "### Q. Finding number of countries in a continent "
   ]
  },
  {
   "cell_type": "code",
   "execution_count": 6,
   "id": "ca84ec94",
   "metadata": {
    "scrolled": true
   },
   "outputs": [
    {
     "data": {
      "text/plain": [
       "<AxesSubplot:>"
      ]
     },
     "execution_count": 6,
     "metadata": {},
     "output_type": "execute_result"
    },
    {
     "data": {
      "image/png": "[encoded data removed]",
      "text/plain": [
       "<Figure size 640x480 with 1 Axes>"
      ]
     },
     "metadata": {},
     "output_type": "display_data"
    }
   ],
   "source": [
    "# Finding the number of countries in each continent\n",
    "\n",
    "country_count = data['Continent'].value_counts()\n",
    "sns.barplot(x=country_count.index, y=country_count.values)"
   ]
  },
  {
   "cell_type": "markdown",
   "id": "6f341411",
   "metadata": {},
   "source": [
    "Africa has the highest number of countries (57) and South America has the least (14).\n"
   ]
  },
  {
   "cell_type": "markdown",
   "id": "44dc6fa7",
   "metadata": {},
   "source": [
    "### Q. Finding the population percentage of each continent "
   ]
  },
  {
   "cell_type": "code",
   "execution_count": 7,
   "id": "8fed08e8",
   "metadata": {},
   "outputs": [
    {
     "data": {
      "text/plain": [
       "<AxesSubplot:ylabel='World Population Percentage'>"
      ]
     },
     "execution_count": 7,
     "metadata": {},
     "output_type": "execute_result"
    },
    {
     "data": {
      "image/png": "[encoded data removed]",
      "text/plain": [
       "<Figure size 640x480 with 1 Axes>"
      ]
     },
     "metadata": {},
     "output_type": "display_data"
    }
   ],
   "source": [
    "# Finding the population percentage of each continent\n",
    "\n",
    "pop_percentage = data.groupby('Continent')['World Population Percentage'].sum().round(1).sort_values(ascending= False).reset_index()\n",
    "pop_percentage\n",
    "\n",
    "labels = pop_percentage['Continent']\n",
    "percent = pop_percentage['World Population Percentage']\n",
    "percent.plot.pie(labels = labels, autopct = '%1.2f%%')"
   ]
  },
  {
   "cell_type": "markdown",
   "id": "3a277cfc",
   "metadata": {},
   "source": [
    "Asia has the highest population percentage (59.20%), followed by Africa (17.90%) and Europe (9.30%)."
   ]
  },
  {
   "cell_type": "markdown",
   "id": "22af4084",
   "metadata": {},
   "source": [
    "### Q. Comparing the continent population 1970 and 2022"
   ]
  },
  {
   "cell_type": "code",
   "execution_count": 8,
   "id": "f71df38c",
   "metadata": {},
   "outputs": [
    {
     "data": {
      "text/html": [
       "<div>\n",
       "<style scoped>\n",
       "    .dataframe tbody tr th:only-of-type {\n",
       "        vertical-align: middle;\n",
       "    }\n",
       "\n",
       "    .dataframe tbody tr th {\n",
       "        vertical-align: top;\n",
       "    }\n",
       "\n",
       "    .dataframe thead th {\n",
       "        text-align: right;\n",
       "    }\n",
       "</style>\n",
       "<table border=\"1\" class=\"dataframe\">\n",
       "  <thead>\n",
       "    <tr style=\"text-align: right;\">\n",
       "      <th></th>\n",
       "      <th>Continent</th>\n",
       "      <th>1970 Population</th>\n",
       "      <th>2022 Population</th>\n",
       "      <th>Percentage</th>\n",
       "    </tr>\n",
       "  </thead>\n",
       "  <tbody>\n",
       "    <tr>\n",
       "      <th>0</th>\n",
       "      <td>Africa</td>\n",
       "      <td>365444348</td>\n",
       "      <td>1426730932</td>\n",
       "      <td>25.61</td>\n",
       "    </tr>\n",
       "    <tr>\n",
       "      <th>1</th>\n",
       "      <td>Asia</td>\n",
       "      <td>2144906290</td>\n",
       "      <td>4721383274</td>\n",
       "      <td>45.43</td>\n",
       "    </tr>\n",
       "    <tr>\n",
       "      <th>2</th>\n",
       "      <td>Europe</td>\n",
       "      <td>655923991</td>\n",
       "      <td>743147538</td>\n",
       "      <td>88.26</td>\n",
       "    </tr>\n",
       "    <tr>\n",
       "      <th>3</th>\n",
       "      <td>North America</td>\n",
       "      <td>315434606</td>\n",
       "      <td>600296136</td>\n",
       "      <td>52.55</td>\n",
       "    </tr>\n",
       "    <tr>\n",
       "      <th>4</th>\n",
       "      <td>Oceania</td>\n",
       "      <td>19480270</td>\n",
       "      <td>45038554</td>\n",
       "      <td>43.25</td>\n",
       "    </tr>\n",
       "    <tr>\n",
       "      <th>5</th>\n",
       "      <td>South America</td>\n",
       "      <td>192947156</td>\n",
       "      <td>436816608</td>\n",
       "      <td>44.17</td>\n",
       "    </tr>\n",
       "  </tbody>\n",
       "</table>\n",
       "</div>"
      ],
      "text/plain": [
       "       Continent  1970 Population  2022 Population  Percentage\n",
       "0         Africa        365444348       1426730932       25.61\n",
       "1           Asia       2144906290       4721383274       45.43\n",
       "2         Europe        655923991        743147538       88.26\n",
       "3  North America        315434606        600296136       52.55\n",
       "4        Oceania         19480270         45038554       43.25\n",
       "5  South America        192947156        436816608       44.17"
      ]
     },
     "execution_count": 8,
     "metadata": {},
     "output_type": "execute_result"
    }
   ],
   "source": [
    "# Comparing the population of each continent in 1970 and 2022\n",
    "\n",
    "population_1970_2022 = data.groupby('Continent')[['1970 Population', '2022 Population']].sum().sort_values(by='Continent', ascending=True).reset_index()\n",
    "population_1970_2022['Percentage'] = round(population_1970_2022['1970 Population'] / population_1970_2022['2022 Population'] * 100, 2)\n",
    "population_1970_2022"
   ]
  },
  {
   "cell_type": "markdown",
   "id": "096382b6",
   "metadata": {},
   "source": [
    "The world population has increased significantly over the years. The total world population in 1970 was 3.7 billion, which increased to 7.9 billion in 2022."
   ]
  },
  {
   "cell_type": "markdown",
   "id": "1296ac1e",
   "metadata": {},
   "source": [
    "### Q. Highest Population"
   ]
  },
  {
   "cell_type": "code",
   "execution_count": 9,
   "id": "0b1d87c2",
   "metadata": {
    "scrolled": true
   },
   "outputs": [
    {
     "data": {
      "text/html": [
       "<div>\n",
       "<style scoped>\n",
       "    .dataframe tbody tr th:only-of-type {\n",
       "        vertical-align: middle;\n",
       "    }\n",
       "\n",
       "    .dataframe tbody tr th {\n",
       "        vertical-align: top;\n",
       "    }\n",
       "\n",
       "    .dataframe thead th {\n",
       "        text-align: right;\n",
       "    }\n",
       "</style>\n",
       "<table border=\"1\" class=\"dataframe\">\n",
       "  <thead>\n",
       "    <tr style=\"text-align: right;\">\n",
       "      <th></th>\n",
       "      <th>index</th>\n",
       "      <th>Country/Territory</th>\n",
       "      <th>2022 Population</th>\n",
       "    </tr>\n",
       "  </thead>\n",
       "  <tbody>\n",
       "    <tr>\n",
       "      <th>0</th>\n",
       "      <td>41</td>\n",
       "      <td>China</td>\n",
       "      <td>1425887337</td>\n",
       "    </tr>\n",
       "    <tr>\n",
       "      <th>1</th>\n",
       "      <td>92</td>\n",
       "      <td>India</td>\n",
       "      <td>1417173173</td>\n",
       "    </tr>\n",
       "    <tr>\n",
       "      <th>2</th>\n",
       "      <td>221</td>\n",
       "      <td>United States</td>\n",
       "      <td>338289857</td>\n",
       "    </tr>\n",
       "    <tr>\n",
       "      <th>3</th>\n",
       "      <td>93</td>\n",
       "      <td>Indonesia</td>\n",
       "      <td>275501339</td>\n",
       "    </tr>\n",
       "    <tr>\n",
       "      <th>4</th>\n",
       "      <td>156</td>\n",
       "      <td>Pakistan</td>\n",
       "      <td>235824862</td>\n",
       "    </tr>\n",
       "  </tbody>\n",
       "</table>\n",
       "</div>"
      ],
      "text/plain": [
       "   index Country/Territory  2022 Population\n",
       "0     41             China       1425887337\n",
       "1     92             India       1417173173\n",
       "2    221     United States        338289857\n",
       "3     93         Indonesia        275501339\n",
       "4    156          Pakistan        235824862"
      ]
     },
     "execution_count": 9,
     "metadata": {},
     "output_type": "execute_result"
    }
   ],
   "source": [
    "# Finding the highest population countries\n",
    "\n",
    "highest_populated_countries = data[['Country/Territory','2022 Population']].sort_values(by='2022 Population', ascending=False).head().reset_index()\n",
    "highest_populated_countries"
   ]
  },
  {
   "cell_type": "markdown",
   "id": "a849fdbf",
   "metadata": {},
   "source": [
    "China has the highest population (1.4 billion), followed by India (1.4 billion) and the United States (338 million)."
   ]
  },
  {
   "cell_type": "markdown",
   "id": "e995b126",
   "metadata": {},
   "source": [
    "### Q. Least Population "
   ]
  },
  {
   "cell_type": "code",
   "execution_count": 10,
   "id": "e5886dc3",
   "metadata": {
    "scrolled": true
   },
   "outputs": [
    {
     "data": {
      "text/html": [
       "<div>\n",
       "<style scoped>\n",
       "    .dataframe tbody tr th:only-of-type {\n",
       "        vertical-align: middle;\n",
       "    }\n",
       "\n",
       "    .dataframe tbody tr th {\n",
       "        vertical-align: top;\n",
       "    }\n",
       "\n",
       "    .dataframe thead th {\n",
       "        text-align: right;\n",
       "    }\n",
       "</style>\n",
       "<table border=\"1\" class=\"dataframe\">\n",
       "  <thead>\n",
       "    <tr style=\"text-align: right;\">\n",
       "      <th></th>\n",
       "      <th>index</th>\n",
       "      <th>Country/Territory</th>\n",
       "      <th>2022 Population</th>\n",
       "    </tr>\n",
       "  </thead>\n",
       "  <tbody>\n",
       "    <tr>\n",
       "      <th>0</th>\n",
       "      <td>226</td>\n",
       "      <td>Vatican City</td>\n",
       "      <td>510</td>\n",
       "    </tr>\n",
       "    <tr>\n",
       "      <th>1</th>\n",
       "      <td>209</td>\n",
       "      <td>Tokelau</td>\n",
       "      <td>1871</td>\n",
       "    </tr>\n",
       "    <tr>\n",
       "      <th>2</th>\n",
       "      <td>150</td>\n",
       "      <td>Niue</td>\n",
       "      <td>1934</td>\n",
       "    </tr>\n",
       "    <tr>\n",
       "      <th>3</th>\n",
       "      <td>64</td>\n",
       "      <td>Falkland Islands</td>\n",
       "      <td>3780</td>\n",
       "    </tr>\n",
       "    <tr>\n",
       "      <th>4</th>\n",
       "      <td>137</td>\n",
       "      <td>Montserrat</td>\n",
       "      <td>4390</td>\n",
       "    </tr>\n",
       "  </tbody>\n",
       "</table>\n",
       "</div>"
      ],
      "text/plain": [
       "   index Country/Territory  2022 Population\n",
       "0    226      Vatican City              510\n",
       "1    209           Tokelau             1871\n",
       "2    150              Niue             1934\n",
       "3     64  Falkland Islands             3780\n",
       "4    137        Montserrat             4390"
      ]
     },
     "execution_count": 10,
     "metadata": {},
     "output_type": "execute_result"
    }
   ],
   "source": [
    "# Finding the least populated countries\n",
    "\n",
    "least_populated_countries = data[['Country/Territory','2022 Population']].sort_values(by='2022 Population', ascending=True).head().reset_index()\n",
    "least_populated_countries"
   ]
  },
  {
   "cell_type": "markdown",
   "id": "b5d79599",
   "metadata": {},
   "source": [
    "The Vatican City has the lowest population (510), followed by Tokelau (1,871) and Niue (1,934)."
   ]
  },
  {
   "cell_type": "markdown",
   "id": "ab893a8f",
   "metadata": {},
   "source": [
    "### Q. Top 5 Countries from the continent "
   ]
  },
  {
   "cell_type": "code",
   "execution_count": 11,
   "id": "6870517f",
   "metadata": {},
   "outputs": [],
   "source": [
    "def topFive(Continent):\n",
    "    cont = data[data['Continent'] == Continent]\n",
    "    return cont.groupby('Country/Territory')['2022 Population'].sum().sort_values(ascending = False).head()"
   ]
  },
  {
   "cell_type": "code",
   "execution_count": 12,
   "id": "8cdf7bec",
   "metadata": {
    "scrolled": true
   },
   "outputs": [
    {
     "data": {
      "text/plain": [
       "Country/Territory\n",
       "China         1425887337\n",
       "India         1417173173\n",
       "Indonesia      275501339\n",
       "Pakistan       235824862\n",
       "Bangladesh     171186372\n",
       "Name: 2022 Population, dtype: int64"
      ]
     },
     "execution_count": 12,
     "metadata": {},
     "output_type": "execute_result"
    }
   ],
   "source": [
    "topFive('Asia')"
   ]
  },
  {
   "cell_type": "code",
   "execution_count": 13,
   "id": "ad5d8926",
   "metadata": {},
   "outputs": [
    {
     "data": {
      "text/plain": [
       "Country/Territory\n",
       "Russia            144713314\n",
       "Germany            83369843\n",
       "United Kingdom     67508936\n",
       "France             64626628\n",
       "Italy              59037474\n",
       "Name: 2022 Population, dtype: int64"
      ]
     },
     "execution_count": 13,
     "metadata": {},
     "output_type": "execute_result"
    }
   ],
   "source": [
    "topFive('Europe')"
   ]
  },
  {
   "cell_type": "code",
   "execution_count": 14,
   "id": "d608f036",
   "metadata": {},
   "outputs": [
    {
     "data": {
      "text/plain": [
       "Country/Territory\n",
       "Brazil       215313498\n",
       "Colombia      51874024\n",
       "Argentina     45510318\n",
       "Peru          34049588\n",
       "Venezuela     28301696\n",
       "Name: 2022 Population, dtype: int64"
      ]
     },
     "execution_count": 14,
     "metadata": {},
     "output_type": "execute_result"
    }
   ],
   "source": [
    "topFive('South America')"
   ]
  },
  {
   "cell_type": "code",
   "execution_count": 15,
   "id": "1b39e240",
   "metadata": {
    "scrolled": true
   },
   "outputs": [
    {
     "data": {
      "text/plain": [
       "Country/Territory\n",
       "United States    338289857\n",
       "Mexico           127504125\n",
       "Canada            38454327\n",
       "Guatemala         17843908\n",
       "Haiti             11584996\n",
       "Name: 2022 Population, dtype: int64"
      ]
     },
     "execution_count": 15,
     "metadata": {},
     "output_type": "execute_result"
    }
   ],
   "source": [
    "topFive('North America')"
   ]
  },
  {
   "cell_type": "code",
   "execution_count": 16,
   "id": "8b6059bd",
   "metadata": {
    "scrolled": true
   },
   "outputs": [
    {
     "data": {
      "text/plain": [
       "Country/Territory\n",
       "Nigeria     218541212\n",
       "Ethiopia    123379924\n",
       "Egypt       110990103\n",
       "DR Congo     99010212\n",
       "Tanzania     65497748\n",
       "Name: 2022 Population, dtype: int64"
      ]
     },
     "execution_count": 16,
     "metadata": {},
     "output_type": "execute_result"
    }
   ],
   "source": [
    "topFive('Africa')"
   ]
  },
  {
   "cell_type": "markdown",
   "id": "3d8a72d1",
   "metadata": {},
   "source": [
    "After analyzing the population data for different continents, we can see that China and India have the largest populations globally, followed by the USA and Indonesia. In contrast."
   ]
  },
  {
   "cell_type": "markdown",
   "id": "209e2e4c",
   "metadata": {},
   "source": [
    "### Q. Bottom 5 countries from continent "
   ]
  },
  {
   "cell_type": "code",
   "execution_count": 17,
   "id": "e9e93f0f",
   "metadata": {},
   "outputs": [],
   "source": [
    "# define a function to get the bottom 5 countries from a given continent based on 2020 population\n",
    "def bottomFive(Continent):\n",
    "    # filter the data for the given continent\n",
    "    cont = data[data['Continent'] == Continent]\n",
    "    # group the data by country and sum the 2020 population, then sort in ascending order and get the first 5 rows\n",
    "    return cont.groupby('Country/Territory')['2020 Population'].sum().sort_values(ascending = True).head()"
   ]
  },
  {
   "cell_type": "code",
   "execution_count": 18,
   "id": "244d2976",
   "metadata": {},
   "outputs": [
    {
     "data": {
      "text/plain": [
       "Country/Territory\n",
       "Seychelles               105530\n",
       "Sao Tome and Principe    218641\n",
       "Mayotte                  305587\n",
       "Western Sahara           556048\n",
       "Cape Verde               582640\n",
       "Name: 2020 Population, dtype: int64"
      ]
     },
     "execution_count": 18,
     "metadata": {},
     "output_type": "execute_result"
    }
   ],
   "source": [
    "bottomFive('Africa')"
   ]
  },
  {
   "cell_type": "code",
   "execution_count": 19,
   "id": "e86d9d00",
   "metadata": {},
   "outputs": [
    {
     "data": {
      "text/plain": [
       "Country/Territory\n",
       "Vatican City       520\n",
       "Gibraltar        32709\n",
       "San Marino       34007\n",
       "Monaco           36922\n",
       "Liechtenstein    38756\n",
       "Name: 2020 Population, dtype: int64"
      ]
     },
     "execution_count": 19,
     "metadata": {},
     "output_type": "execute_result"
    }
   ],
   "source": [
    "bottomFive('Europe')"
   ]
  },
  {
   "cell_type": "code",
   "execution_count": 20,
   "id": "939b4027",
   "metadata": {},
   "outputs": [
    {
     "data": {
      "text/plain": [
       "Country/Territory\n",
       "Falkland Islands       3747\n",
       "French Guiana        290969\n",
       "Suriname             607065\n",
       "Guyana               797202\n",
       "Uruguay             3429086\n",
       "Name: 2020 Population, dtype: int64"
      ]
     },
     "execution_count": 20,
     "metadata": {},
     "output_type": "execute_result"
    }
   ],
   "source": [
    "bottomFive('South America')"
   ]
  },
  {
   "cell_type": "code",
   "execution_count": 21,
   "id": "f4f91f99",
   "metadata": {},
   "outputs": [
    {
     "data": {
      "text/plain": [
       "Country/Territory\n",
       "Brunei          441725\n",
       "Maldives        514438\n",
       "Macau           676283\n",
       "Bhutan          772506\n",
       "Timor-Leste    1299995\n",
       "Name: 2020 Population, dtype: int64"
      ]
     },
     "execution_count": 21,
     "metadata": {},
     "output_type": "execute_result"
    }
   ],
   "source": [
    "bottomFive('Asia')"
   ]
  },
  {
   "cell_type": "code",
   "execution_count": 22,
   "id": "7e2f7338",
   "metadata": {
    "scrolled": true
   },
   "outputs": [
    {
     "data": {
      "text/plain": [
       "Country/Territory\n",
       "Montserrat                    4500\n",
       "Saint Pierre and Miquelon     5906\n",
       "Saint Barthelemy             10681\n",
       "Anguilla                     15585\n",
       "British Virgin Islands       30910\n",
       "Name: 2020 Population, dtype: int64"
      ]
     },
     "execution_count": 22,
     "metadata": {},
     "output_type": "execute_result"
    }
   ],
   "source": [
    "bottomFive('North America')"
   ]
  },
  {
   "cell_type": "markdown",
   "id": "1a6049be",
   "metadata": {},
   "source": [
    "From the population data analysis for different continents, it is clear that Asia has the largest population globally, with China and India as the two most populous countries in the world. Africa has the second-largest population, with Nigeria being the most populous country in the continent. Europe and North America have relatively smaller populations, while South America has a moderate population size.\n",
    "\n",
    "Looking at the top five populated countries from each continent, Asia has the highest number of countries, followed by Africa and Europe. On the other hand, North and South America have only one country each in the top five list.\n",
    "\n",
    "In terms of the bottom five countries from each continent, it is evident that they have significantly smaller populations compared to the top five countries. Vatican City, Gibraltar, San Marino, Monaco, and Liechtenstein have the smallest populations in Europe, while the Falkland Islands, French Guiana, Suriname, Guyana, and Uruguay have the smallest populations in South America. Similarly, Seychelles, Sao Tome and Principe, Mayotte, Western Sahara, and Cape Verde have the smallest populations in Africa.\n",
    "\n",
    "Overall, the population data analysis shows that there are significant differences in population size and growth rate between different regions, which can have significant implications for the economic, social, and political development of countries and continents."
   ]
  },
  {
   "cell_type": "markdown",
   "id": "a7b8faea",
   "metadata": {},
   "source": [
    "### Q.Top 10 Growth rate country"
   ]
  },
  {
   "cell_type": "code",
   "execution_count": 23,
   "id": "fa34d61a",
   "metadata": {
    "scrolled": false
   },
   "outputs": [
    {
     "data": {
      "text/html": [
       "<div>\n",
       "<style scoped>\n",
       "    .dataframe tbody tr th:only-of-type {\n",
       "        vertical-align: middle;\n",
       "    }\n",
       "\n",
       "    .dataframe tbody tr th {\n",
       "        vertical-align: top;\n",
       "    }\n",
       "\n",
       "    .dataframe thead th {\n",
       "        text-align: right;\n",
       "    }\n",
       "</style>\n",
       "<table border=\"1\" class=\"dataframe\">\n",
       "  <thead>\n",
       "    <tr style=\"text-align: right;\">\n",
       "      <th></th>\n",
       "      <th>Rank</th>\n",
       "      <th>CCA3</th>\n",
       "      <th>Country/Territory</th>\n",
       "      <th>Capital</th>\n",
       "      <th>Continent</th>\n",
       "      <th>2022 Population</th>\n",
       "      <th>2020 Population</th>\n",
       "      <th>2015 Population</th>\n",
       "      <th>2010 Population</th>\n",
       "      <th>2000 Population</th>\n",
       "      <th>1990 Population</th>\n",
       "      <th>1980 Population</th>\n",
       "      <th>1970 Population</th>\n",
       "      <th>Area (km²)</th>\n",
       "      <th>Density (per km²)</th>\n",
       "      <th>Growth Rate</th>\n",
       "      <th>World Population Percentage</th>\n",
       "    </tr>\n",
       "  </thead>\n",
       "  <tbody>\n",
       "    <tr>\n",
       "      <th>133</th>\n",
       "      <td>135</td>\n",
       "      <td>MDA</td>\n",
       "      <td>Moldova</td>\n",
       "      <td>Chisinau</td>\n",
       "      <td>Europe</td>\n",
       "      <td>3272996</td>\n",
       "      <td>3084847</td>\n",
       "      <td>3277388</td>\n",
       "      <td>3678186</td>\n",
       "      <td>4251573</td>\n",
       "      <td>4480199</td>\n",
       "      <td>4103240</td>\n",
       "      <td>3711140</td>\n",
       "      <td>33846</td>\n",
       "      <td>96.7026</td>\n",
       "      <td>1.0691</td>\n",
       "      <td>0.04</td>\n",
       "    </tr>\n",
       "    <tr>\n",
       "      <th>164</th>\n",
       "      <td>37</td>\n",
       "      <td>POL</td>\n",
       "      <td>Poland</td>\n",
       "      <td>Warsaw</td>\n",
       "      <td>Europe</td>\n",
       "      <td>39857145</td>\n",
       "      <td>38428366</td>\n",
       "      <td>38553146</td>\n",
       "      <td>38597353</td>\n",
       "      <td>38504431</td>\n",
       "      <td>38064255</td>\n",
       "      <td>35521429</td>\n",
       "      <td>32482943</td>\n",
       "      <td>312679</td>\n",
       "      <td>127.4698</td>\n",
       "      <td>1.0404</td>\n",
       "      <td>0.50</td>\n",
       "    </tr>\n",
       "    <tr>\n",
       "      <th>148</th>\n",
       "      <td>54</td>\n",
       "      <td>NER</td>\n",
       "      <td>Niger</td>\n",
       "      <td>Niamey</td>\n",
       "      <td>Africa</td>\n",
       "      <td>26207977</td>\n",
       "      <td>24333639</td>\n",
       "      <td>20128124</td>\n",
       "      <td>16647543</td>\n",
       "      <td>11622665</td>\n",
       "      <td>8370647</td>\n",
       "      <td>6173177</td>\n",
       "      <td>4669708</td>\n",
       "      <td>1267000</td>\n",
       "      <td>20.6851</td>\n",
       "      <td>1.0378</td>\n",
       "      <td>0.33</td>\n",
       "    </tr>\n",
       "    <tr>\n",
       "      <th>202</th>\n",
       "      <td>60</td>\n",
       "      <td>SYR</td>\n",
       "      <td>Syria</td>\n",
       "      <td>Damascus</td>\n",
       "      <td>Asia</td>\n",
       "      <td>22125249</td>\n",
       "      <td>20772595</td>\n",
       "      <td>19205178</td>\n",
       "      <td>22337563</td>\n",
       "      <td>16307654</td>\n",
       "      <td>12408996</td>\n",
       "      <td>8898954</td>\n",
       "      <td>6319199</td>\n",
       "      <td>185180</td>\n",
       "      <td>119.4797</td>\n",
       "      <td>1.0376</td>\n",
       "      <td>0.28</td>\n",
       "    </tr>\n",
       "    <tr>\n",
       "      <th>189</th>\n",
       "      <td>116</td>\n",
       "      <td>SVK</td>\n",
       "      <td>Slovakia</td>\n",
       "      <td>Bratislava</td>\n",
       "      <td>Europe</td>\n",
       "      <td>5643453</td>\n",
       "      <td>5456681</td>\n",
       "      <td>5424444</td>\n",
       "      <td>5396424</td>\n",
       "      <td>5376690</td>\n",
       "      <td>5261305</td>\n",
       "      <td>4973883</td>\n",
       "      <td>4522867</td>\n",
       "      <td>49037</td>\n",
       "      <td>115.0856</td>\n",
       "      <td>1.0359</td>\n",
       "      <td>0.07</td>\n",
       "    </tr>\n",
       "    <tr>\n",
       "      <th>55</th>\n",
       "      <td>15</td>\n",
       "      <td>COD</td>\n",
       "      <td>DR Congo</td>\n",
       "      <td>Kinshasa</td>\n",
       "      <td>Africa</td>\n",
       "      <td>99010212</td>\n",
       "      <td>92853164</td>\n",
       "      <td>78656904</td>\n",
       "      <td>66391257</td>\n",
       "      <td>48616317</td>\n",
       "      <td>35987541</td>\n",
       "      <td>26708686</td>\n",
       "      <td>20151733</td>\n",
       "      <td>2344858</td>\n",
       "      <td>42.2244</td>\n",
       "      <td>1.0325</td>\n",
       "      <td>1.24</td>\n",
       "    </tr>\n",
       "    <tr>\n",
       "      <th>130</th>\n",
       "      <td>182</td>\n",
       "      <td>MYT</td>\n",
       "      <td>Mayotte</td>\n",
       "      <td>Mamoudzou</td>\n",
       "      <td>Africa</td>\n",
       "      <td>326101</td>\n",
       "      <td>305587</td>\n",
       "      <td>249545</td>\n",
       "      <td>211786</td>\n",
       "      <td>159215</td>\n",
       "      <td>92659</td>\n",
       "      <td>52233</td>\n",
       "      <td>35383</td>\n",
       "      <td>374</td>\n",
       "      <td>871.9278</td>\n",
       "      <td>1.0319</td>\n",
       "      <td>0.00</td>\n",
       "    </tr>\n",
       "    <tr>\n",
       "      <th>39</th>\n",
       "      <td>69</td>\n",
       "      <td>TCD</td>\n",
       "      <td>Chad</td>\n",
       "      <td>N'Djamena</td>\n",
       "      <td>Africa</td>\n",
       "      <td>17723315</td>\n",
       "      <td>16644701</td>\n",
       "      <td>14140274</td>\n",
       "      <td>11894727</td>\n",
       "      <td>8259137</td>\n",
       "      <td>5827069</td>\n",
       "      <td>4408230</td>\n",
       "      <td>3667394</td>\n",
       "      <td>1284000</td>\n",
       "      <td>13.8032</td>\n",
       "      <td>1.0316</td>\n",
       "      <td>0.22</td>\n",
       "    </tr>\n",
       "    <tr>\n",
       "      <th>5</th>\n",
       "      <td>42</td>\n",
       "      <td>AGO</td>\n",
       "      <td>Angola</td>\n",
       "      <td>Luanda</td>\n",
       "      <td>Africa</td>\n",
       "      <td>35588987</td>\n",
       "      <td>33428485</td>\n",
       "      <td>28127721</td>\n",
       "      <td>23364185</td>\n",
       "      <td>16394062</td>\n",
       "      <td>11828638</td>\n",
       "      <td>8330047</td>\n",
       "      <td>6029700</td>\n",
       "      <td>1246700</td>\n",
       "      <td>28.5466</td>\n",
       "      <td>1.0315</td>\n",
       "      <td>0.45</td>\n",
       "    </tr>\n",
       "    <tr>\n",
       "      <th>124</th>\n",
       "      <td>59</td>\n",
       "      <td>MLI</td>\n",
       "      <td>Mali</td>\n",
       "      <td>Bamako</td>\n",
       "      <td>Africa</td>\n",
       "      <td>22593590</td>\n",
       "      <td>21224040</td>\n",
       "      <td>18112907</td>\n",
       "      <td>15529181</td>\n",
       "      <td>11239101</td>\n",
       "      <td>8945026</td>\n",
       "      <td>7372581</td>\n",
       "      <td>6153587</td>\n",
       "      <td>1240192</td>\n",
       "      <td>18.2178</td>\n",
       "      <td>1.0314</td>\n",
       "      <td>0.28</td>\n",
       "    </tr>\n",
       "  </tbody>\n",
       "</table>\n",
       "</div>"
      ],
      "text/plain": [
       "     Rank CCA3 Country/Territory     Capital Continent  2022 Population  \\\n",
       "133   135  MDA           Moldova    Chisinau    Europe          3272996   \n",
       "164    37  POL            Poland      Warsaw    Europe         39857145   \n",
       "148    54  NER             Niger      Niamey    Africa         26207977   \n",
       "202    60  SYR             Syria    Damascus      Asia         22125249   \n",
       "189   116  SVK          Slovakia  Bratislava    Europe          5643453   \n",
       "55     15  COD          DR Congo    Kinshasa    Africa         99010212   \n",
       "130   182  MYT           Mayotte   Mamoudzou    Africa           326101   \n",
       "39     69  TCD              Chad   N'Djamena    Africa         17723315   \n",
       "5      42  AGO            Angola      Luanda    Africa         35588987   \n",
       "124    59  MLI              Mali      Bamako    Africa         22593590   \n",
       "\n",
       "     2020 Population  2015 Population  2010 Population  2000 Population  \\\n",
       "133          3084847          3277388          3678186          4251573   \n",
       "164         38428366         38553146         38597353         38504431   \n",
       "148         24333639         20128124         16647543         11622665   \n",
       "202         20772595         19205178         22337563         16307654   \n",
       "189          5456681          5424444          5396424          5376690   \n",
       "55          92853164         78656904         66391257         48616317   \n",
       "130           305587           249545           211786           159215   \n",
       "39          16644701         14140274         11894727          8259137   \n",
       "5           33428485         28127721         23364185         16394062   \n",
       "124         21224040         18112907         15529181         11239101   \n",
       "\n",
       "     1990 Population  1980 Population  1970 Population  Area (km²)  \\\n",
       "133          4480199          4103240          3711140       33846   \n",
       "164         38064255         35521429         32482943      312679   \n",
       "148          8370647          6173177          4669708     1267000   \n",
       "202         12408996          8898954          6319199      185180   \n",
       "189          5261305          4973883          4522867       49037   \n",
       "55          35987541         26708686         20151733     2344858   \n",
       "130            92659            52233            35383         374   \n",
       "39           5827069          4408230          3667394     1284000   \n",
       "5           11828638          8330047          6029700     1246700   \n",
       "124          8945026          7372581          6153587     1240192   \n",
       "\n",
       "     Density (per km²)  Growth Rate  World Population Percentage  \n",
       "133            96.7026       1.0691                         0.04  \n",
       "164           127.4698       1.0404                         0.50  \n",
       "148            20.6851       1.0378                         0.33  \n",
       "202           119.4797       1.0376                         0.28  \n",
       "189           115.0856       1.0359                         0.07  \n",
       "55             42.2244       1.0325                         1.24  \n",
       "130           871.9278       1.0319                         0.00  \n",
       "39             13.8032       1.0316                         0.22  \n",
       "5              28.5466       1.0315                         0.45  \n",
       "124            18.2178       1.0314                         0.28  "
      ]
     },
     "execution_count": 23,
     "metadata": {},
     "output_type": "execute_result"
    }
   ],
   "source": [
    "# get the top 10 countries based on growth rate\n",
    "topTen = data.sort_values(by = 'Growth Rate', ascending = False).head(10)\n",
    "topTen"
   ]
  },
  {
   "cell_type": "markdown",
   "id": "c5b533da",
   "metadata": {},
   "source": [
    "Moldova being the country with the highest growth rate, followed by Poland, Niger, Syria, Slovakia, DR Congo, Mayotte, Chad, Angola, and Mali."
   ]
  },
  {
   "cell_type": "code",
   "execution_count": 24,
   "id": "e0fbaf26",
   "metadata": {
    "scrolled": true
   },
   "outputs": [
    {
     "data": {
      "text/html": [
       "<div>\n",
       "<style scoped>\n",
       "    .dataframe tbody tr th:only-of-type {\n",
       "        vertical-align: middle;\n",
       "    }\n",
       "\n",
       "    .dataframe tbody tr th {\n",
       "        vertical-align: top;\n",
       "    }\n",
       "\n",
       "    .dataframe thead th {\n",
       "        text-align: right;\n",
       "    }\n",
       "</style>\n",
       "<table border=\"1\" class=\"dataframe\">\n",
       "  <thead>\n",
       "    <tr style=\"text-align: right;\">\n",
       "      <th></th>\n",
       "      <th>Country/Territory</th>\n",
       "      <th>2022 Population</th>\n",
       "    </tr>\n",
       "  </thead>\n",
       "  <tbody>\n",
       "    <tr>\n",
       "      <th>0</th>\n",
       "      <td>DR Congo</td>\n",
       "      <td>99010212</td>\n",
       "    </tr>\n",
       "    <tr>\n",
       "      <th>1</th>\n",
       "      <td>Poland</td>\n",
       "      <td>39857145</td>\n",
       "    </tr>\n",
       "    <tr>\n",
       "      <th>2</th>\n",
       "      <td>Angola</td>\n",
       "      <td>35588987</td>\n",
       "    </tr>\n",
       "    <tr>\n",
       "      <th>3</th>\n",
       "      <td>Niger</td>\n",
       "      <td>26207977</td>\n",
       "    </tr>\n",
       "    <tr>\n",
       "      <th>4</th>\n",
       "      <td>Mali</td>\n",
       "      <td>22593590</td>\n",
       "    </tr>\n",
       "    <tr>\n",
       "      <th>5</th>\n",
       "      <td>Syria</td>\n",
       "      <td>22125249</td>\n",
       "    </tr>\n",
       "    <tr>\n",
       "      <th>6</th>\n",
       "      <td>Chad</td>\n",
       "      <td>17723315</td>\n",
       "    </tr>\n",
       "    <tr>\n",
       "      <th>7</th>\n",
       "      <td>Slovakia</td>\n",
       "      <td>5643453</td>\n",
       "    </tr>\n",
       "    <tr>\n",
       "      <th>8</th>\n",
       "      <td>Moldova</td>\n",
       "      <td>3272996</td>\n",
       "    </tr>\n",
       "    <tr>\n",
       "      <th>9</th>\n",
       "      <td>Mayotte</td>\n",
       "      <td>326101</td>\n",
       "    </tr>\n",
       "  </tbody>\n",
       "</table>\n",
       "</div>"
      ],
      "text/plain": [
       "  Country/Territory  2022 Population\n",
       "0          DR Congo         99010212\n",
       "1            Poland         39857145\n",
       "2            Angola         35588987\n",
       "3             Niger         26207977\n",
       "4              Mali         22593590\n",
       "5             Syria         22125249\n",
       "6              Chad         17723315\n",
       "7          Slovakia          5643453\n",
       "8           Moldova          3272996\n",
       "9           Mayotte           326101"
      ]
     },
     "execution_count": 24,
     "metadata": {},
     "output_type": "execute_result"
    }
   ],
   "source": [
    "topTen.groupby('Country/Territory')['2022 Population'].sum().sort_values(ascending = False).head(10).reset_index()  "
   ]
  },
  {
   "cell_type": "markdown",
   "id": "e9595c76",
   "metadata": {},
   "source": [
    "### Q. Least Growth Rate Country"
   ]
  },
  {
   "cell_type": "code",
   "execution_count": 25,
   "id": "56e527c4",
   "metadata": {
    "scrolled": false
   },
   "outputs": [
    {
     "data": {
      "text/html": [
       "<div>\n",
       "<style scoped>\n",
       "    .dataframe tbody tr th:only-of-type {\n",
       "        vertical-align: middle;\n",
       "    }\n",
       "\n",
       "    .dataframe tbody tr th {\n",
       "        vertical-align: top;\n",
       "    }\n",
       "\n",
       "    .dataframe thead th {\n",
       "        text-align: right;\n",
       "    }\n",
       "</style>\n",
       "<table border=\"1\" class=\"dataframe\">\n",
       "  <thead>\n",
       "    <tr style=\"text-align: right;\">\n",
       "      <th></th>\n",
       "      <th>Country/Territory</th>\n",
       "      <th>2022 Population</th>\n",
       "    </tr>\n",
       "  </thead>\n",
       "  <tbody>\n",
       "    <tr>\n",
       "      <th>0</th>\n",
       "      <td>Vatican City</td>\n",
       "      <td>510</td>\n",
       "    </tr>\n",
       "    <tr>\n",
       "      <th>1</th>\n",
       "      <td>Tokelau</td>\n",
       "      <td>1871</td>\n",
       "    </tr>\n",
       "    <tr>\n",
       "      <th>2</th>\n",
       "      <td>Niue</td>\n",
       "      <td>1934</td>\n",
       "    </tr>\n",
       "    <tr>\n",
       "      <th>3</th>\n",
       "      <td>Falkland Islands</td>\n",
       "      <td>3780</td>\n",
       "    </tr>\n",
       "    <tr>\n",
       "      <th>4</th>\n",
       "      <td>Montserrat</td>\n",
       "      <td>4390</td>\n",
       "    </tr>\n",
       "    <tr>\n",
       "      <th>5</th>\n",
       "      <td>Saint Pierre and Miquelon</td>\n",
       "      <td>5862</td>\n",
       "    </tr>\n",
       "    <tr>\n",
       "      <th>6</th>\n",
       "      <td>Saint Barthelemy</td>\n",
       "      <td>10967</td>\n",
       "    </tr>\n",
       "    <tr>\n",
       "      <th>7</th>\n",
       "      <td>Tuvalu</td>\n",
       "      <td>11312</td>\n",
       "    </tr>\n",
       "    <tr>\n",
       "      <th>8</th>\n",
       "      <td>Wallis and Futuna</td>\n",
       "      <td>11572</td>\n",
       "    </tr>\n",
       "    <tr>\n",
       "      <th>9</th>\n",
       "      <td>Nauru</td>\n",
       "      <td>12668</td>\n",
       "    </tr>\n",
       "  </tbody>\n",
       "</table>\n",
       "</div>"
      ],
      "text/plain": [
       "           Country/Territory  2022 Population\n",
       "0               Vatican City              510\n",
       "1                    Tokelau             1871\n",
       "2                       Niue             1934\n",
       "3           Falkland Islands             3780\n",
       "4                 Montserrat             4390\n",
       "5  Saint Pierre and Miquelon             5862\n",
       "6           Saint Barthelemy            10967\n",
       "7                     Tuvalu            11312\n",
       "8          Wallis and Futuna            11572\n",
       "9                      Nauru            12668"
      ]
     },
     "execution_count": 25,
     "metadata": {},
     "output_type": "execute_result"
    }
   ],
   "source": [
    "leastTen = data.groupby('Country/Territory')['2022 Population'].sum().sort_values(ascending = True).head(10).reset_index()  \n",
    "leastTen"
   ]
  },
  {
   "cell_type": "markdown",
   "id": "8e5e8b0e",
   "metadata": {},
   "source": [
    "Vatican City having the lowest growth rate, followed by Tokelau, Niue, Falkland Islands, Montserrat, Saint Pierre and Miquelon, Saint Barthelemy, Tuvalu, Wallis and Futuna, and Nauru."
   ]
  },
  {
   "cell_type": "markdown",
   "id": "7c775a3e",
   "metadata": {},
   "source": [
    "### Q. Finding the growth rate by each continents "
   ]
  },
  {
   "cell_type": "code",
   "execution_count": 26,
   "id": "19c89def",
   "metadata": {
    "scrolled": true
   },
   "outputs": [
    {
     "data": {
      "text/html": [
       "<div>\n",
       "<style scoped>\n",
       "    .dataframe tbody tr th:only-of-type {\n",
       "        vertical-align: middle;\n",
       "    }\n",
       "\n",
       "    .dataframe tbody tr th {\n",
       "        vertical-align: top;\n",
       "    }\n",
       "\n",
       "    .dataframe thead th {\n",
       "        text-align: right;\n",
       "    }\n",
       "</style>\n",
       "<table border=\"1\" class=\"dataframe\">\n",
       "  <thead>\n",
       "    <tr style=\"text-align: right;\">\n",
       "      <th></th>\n",
       "      <th>Continent</th>\n",
       "      <th>Growth Rate</th>\n",
       "      <th>Per Growth Rate</th>\n",
       "    </tr>\n",
       "  </thead>\n",
       "  <tbody>\n",
       "    <tr>\n",
       "      <th>0</th>\n",
       "      <td>Africa</td>\n",
       "      <td>58.2109</td>\n",
       "      <td>24.64</td>\n",
       "    </tr>\n",
       "    <tr>\n",
       "      <th>1</th>\n",
       "      <td>Asia</td>\n",
       "      <td>50.4692</td>\n",
       "      <td>21.36</td>\n",
       "    </tr>\n",
       "    <tr>\n",
       "      <th>2</th>\n",
       "      <td>Europe</td>\n",
       "      <td>50.1128</td>\n",
       "      <td>21.21</td>\n",
       "    </tr>\n",
       "    <tr>\n",
       "      <th>3</th>\n",
       "      <td>North America</td>\n",
       "      <td>40.1670</td>\n",
       "      <td>17.00</td>\n",
       "    </tr>\n",
       "    <tr>\n",
       "      <th>4</th>\n",
       "      <td>Oceania</td>\n",
       "      <td>23.1698</td>\n",
       "      <td>9.81</td>\n",
       "    </tr>\n",
       "    <tr>\n",
       "      <th>5</th>\n",
       "      <td>South America</td>\n",
       "      <td>14.1114</td>\n",
       "      <td>5.97</td>\n",
       "    </tr>\n",
       "  </tbody>\n",
       "</table>\n",
       "</div>"
      ],
      "text/plain": [
       "       Continent  Growth Rate  Per Growth Rate\n",
       "0         Africa      58.2109            24.64\n",
       "1           Asia      50.4692            21.36\n",
       "2         Europe      50.1128            21.21\n",
       "3  North America      40.1670            17.00\n",
       "4        Oceania      23.1698             9.81\n",
       "5  South America      14.1114             5.97"
      ]
     },
     "execution_count": 26,
     "metadata": {},
     "output_type": "execute_result"
    }
   ],
   "source": [
    "# get the total growth rate for each continent as a percentage of the total growth rate\n",
    "growthRate = data.groupby('Continent')['Growth Rate'].sum().reset_index()\n",
    "totalGrowthRate = data['Growth Rate'].sum()\n",
    "growthRate['Per Growth Rate'] = round(growthRate['Growth Rate']/totalGrowthRate*100,2)\n",
    "growthRate"
   ]
  },
  {
   "cell_type": "markdown",
   "id": "4500a142",
   "metadata": {},
   "source": [
    "Africa has the highest total growth rate at 24.64%, followed by Asia at 21.36%, Europe at 21.21%, North America at 17.00%, Oceania at 9.81%, and South America at 5.97%."
   ]
  },
  {
   "cell_type": "markdown",
   "id": "e96d7174",
   "metadata": {},
   "source": [
    "### Q. COUNTRY VS AREA"
   ]
  },
  {
   "cell_type": "code",
   "execution_count": 27,
   "id": "e63a6c0f",
   "metadata": {
    "scrolled": true
   },
   "outputs": [
    {
     "data": {
      "image/png": "[encoded data removed]",
      "text/plain": [
       "<Figure size 640x480 with 1 Axes>"
      ]
     },
     "metadata": {},
     "output_type": "display_data"
    }
   ],
   "source": [
    "# get the top 5 countries based on area and plot a pie chart showing the percentage of area each country occupies\n",
    "population_2022=data.sort_values(by=\"Area (km²)\",ascending=False).head(5)\n",
    "x=population_2022[\"Country/Territory\"]\n",
    "y=population_2022[\"Area (km²)\"]\n",
    "plt.pie(y,labels=x,autopct='%1.1f%%')\n",
    "plt.title('Top 5 Countries by Area')\n",
    "plt.show()"
   ]
  },
  {
   "cell_type": "markdown",
   "id": "1e25e2e5",
   "metadata": {},
   "source": [
    "The pie chart shows the percentage of land area occupied by the top 5 countries based on their area, with Russia being the largest country occupying 31.3% of the world's landmass."
   ]
  },
  {
   "cell_type": "markdown",
   "id": "84434012",
   "metadata": {},
   "source": [
    "### Q. COUNTRY VS GROWTH RATE "
   ]
  },
  {
   "cell_type": "code",
   "execution_count": 28,
   "id": "f3a8c539",
   "metadata": {
    "scrolled": true
   },
   "outputs": [
    {
     "data": {
      "image/png": "[encoded data removed]",
      "text/plain": [
       "<Figure size 640x480 with 1 Axes>"
      ]
     },
     "metadata": {},
     "output_type": "display_data"
    }
   ],
   "source": [
    "# plot a pie chart showing the percentage of growth rate each country occupies\n",
    "growth_rate = data.sort_values(by=\"Growth Rate\", ascending=False).head(5)\n",
    "x = growth_rate[\"Country/Territory\"]\n",
    "y = growth_rate[\"Growth Rate\"]\n",
    "plt.pie(y, labels=x, autopct='%1.1f%%')\n",
    "plt.title('Top 5 Countries by Growth Rate')\n",
    "plt.show()\n"
   ]
  },
  {
   "cell_type": "markdown",
   "id": "d961113d",
   "metadata": {},
   "source": [
    "The pie chart shows the percentage of the world population that each of the top 5 countries occupies, with Moldova being the most populous country occupying 20.5% of the world's population."
   ]
  },
  {
   "cell_type": "markdown",
   "id": "a8dc14cb",
   "metadata": {},
   "source": [
    "### Q. COUNTRY VS WORLD POPULATION PERCENTAGE "
   ]
  },
  {
   "cell_type": "code",
   "execution_count": 29,
   "id": "d8626325",
   "metadata": {},
   "outputs": [
    {
     "data": {
      "image/png": "[encoded data removed]",
      "text/plain": [
       "<Figure size 640x480 with 1 Axes>"
      ]
     },
     "metadata": {},
     "output_type": "display_data"
    }
   ],
   "source": [
    "# plot a pie chart showing the percentage of world population each country occupies\n",
    "population_2022=data.sort_values(by=\"World Population Percentage\",ascending=False).head(5)\n",
    "x=population_2022[\"Country/Territory\"]\n",
    "y=population_2022[\"World Population Percentage\"]\n",
    "plt.pie(y,labels=x,autopct='%1.1f%%')\n",
    "plt.title('Top 5 Countries by World Population Percentage')\n",
    "plt.show()"
   ]
  },
  {
   "cell_type": "markdown",
   "id": "bf65dc29",
   "metadata": {},
   "source": [
    "top 5 countries in terms of their percentage of the world population are China, India, United States, Indonesia, and Pakistan. Together, these countries make up over half of the world's population, with China being the most populous country at 38.6%. The pie chart visually displays the percentage of world population each country occupies and provides an easy way to compare their relative sizes."
   ]
  },
  {
   "cell_type": "markdown",
   "id": "7c8bb44c",
   "metadata": {},
   "source": [
    "#### Conclusion:\n",
    "\n",
    "The analysis of world population data provides insights into the population size and growth rate of different countries and continents. Asia has the largest population globally, followed by Africa and Europe, while South America has the least. China and India are the two most populous countries in the world, followed by the United States, Indonesia, and Pakistan. Nigeria is the most populous country in Africa. In terms of the bottom five countries from each continent, it is evident that they have significantly smaller populations compared to the top five countries. The population data analysis shows that there are significant differences in population size and growth rate between different regions, which can have significant implications for the economic, social, and political development of countries and continents. Overall, the analysis highlights the need for policymakers to take population trends into account while formulating development policies and strategies."
   ]
  },
  {
   "cell_type": "markdown",
   "id": "5f416545",
   "metadata": {},
   "source": [
    "Questions and Answers:\n",
    "\n",
    "Q1. Which continent has the highest number of countries, and which has the least?  \n",
    "A1. Africa has the highest number of countries (57), while South America has the least (14).\n",
    "\n",
    "Q2. Which continent has the highest population percentage, and which has the lowest?  \n",
    "A2. Asia has the highest population percentage (59.20%), followed by Africa (17.90%), and Europe (9.30%). Oceania has the lowest population percentage (0.50%).\n",
    "\n",
    "Q3. What is the trend in the world population between 1970 and 2022?  \n",
    "A3. The total world population has increased significantly over the years. The world population was 3.7 billion in 1970, which increased to 7.9 billion in 2022.\n",
    "\n",
    "Q4. What are the top three countries with the highest population, and what are the bottom three with the lowest population?  \n",
    "A4. The top three countries with the highest population are China (1.4 billion), India (1.4 billion), and the United States (338 million). The bottom three countries with the lowest population are Vatican City (510), Tokelau (1,871), and Niue (1,934).\n",
    "\n",
    "Q5. Which continent has the largest population, and which country is the most populous in that continent?  \n",
    "A5. Asia has the largest population globally, with China being the most populous country in the continent.\n",
    "\n",
    "Q6. Which continent has the second-largest population, and which country is the most populous in that continent?  \n",
    "A6. Africa has the second-largest population globally, with Nigeria being the most populous country in the continent.\n",
    "\n",
    "Q7. What are the top five most populous countries in each continent?  \n",
    "A7. The top five most populous countries in each continent are:\n",
    "\n",
    "    Asia: China, India, Indonesia, Pakistan, and Bangladesh\n",
    "    Europe: Russia, Germany, United Kingdom, France, and Italy\n",
    "    South America: Brazil, Colombia, Argentina, Peru, and Venezuela\n",
    "    North America: United States, Mexico, Canada, Cuba, and Haiti\n",
    "    Africa: Nigeria, Ethiopia, Egypt, DR Congo, and Tanzania\n",
    "\n",
    "Q8. What are the bottom five least populous countries in each continent?  \n",
    "A8. The bottom five least populous countries in each continent are:\n",
    "\n",
    "    Asia: Bhutan, Brunei, Maldives, Timor-Leste, and Macao\n",
    "    Europe: Vatican City, Gibraltar, San Marino, Monaco, and Liechtenstein\n",
    "    South America: Falkland Islands, French Guiana, Suriname, Guyana, and Uruguay\n",
    "    North America: Greenland, Saint Kitts and Nevis, Saint Vincent and the Grenadines, Dominica, and Antigua and Barbuda\n",
    "    Africa: Seychelles, Sao Tome and Principe, Mayotte, Western Sahara, and Cape Verde"
   ]
  },
  {
   "cell_type": "code",
   "execution_count": null,
   "id": "91b99bf9",
   "metadata": {},
   "outputs": [],
   "source": []
  }
 ],
 "metadata": {
  "kernelspec": {
   "display_name": "Python 3 (ipykernel)",
   "language": "python",
   "name": "python3"
  },
  "language_info": {
   "codemirror_mode": {
    "name": "ipython",
    "version": 3
   },
   "file_extension": ".py",
   "mimetype": "text/x-python",
   "name": "python",
   "nbconvert_exporter": "python",
   "pygments_lexer": "ipython3",
   "version": "3.8.13"
  }
 },
 "nbformat": 4,
 "nbformat_minor": 5
}
